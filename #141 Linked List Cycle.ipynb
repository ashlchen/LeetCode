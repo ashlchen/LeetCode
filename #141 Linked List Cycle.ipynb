{
 "cells": [
  {
   "cell_type": "code",
   "execution_count": null,
   "id": "4aa7a143",
   "metadata": {},
   "outputs": [],
   "source": [
    "# Given head, the head of a linked list, determine if the linked list has a cycle in it.\n",
    "\n",
    "# There is a cycle in a linked list if there is some node in the list that can be reached again by continuously following the next pointer. Internally, pos is used to denote the index of the node that tail's next pointer is connected to. Note that pos is not passed as a parameter.\n",
    "\n",
    "# Return true if there is a cycle in the linked list. Otherwise, return false.\n"
   ]
  },
  {
   "cell_type": "code",
   "execution_count": null,
   "id": "b9103cf2",
   "metadata": {},
   "outputs": [],
   "source": [
    "# Floyd's Tortoise and Hare\n",
    "# if there is a cycle, then fast pointer will eventually meet the slow one!\n",
    "# For the total length of the list (n), every time slow and fast move the distance between them will be\n",
    "# n + 1 (slow) - 2 (fast) = n - 1 >>> eventually they meet"
   ]
  },
  {
   "cell_type": "code",
   "execution_count": null,
   "id": "1b9f5d93",
   "metadata": {},
   "outputs": [],
   "source": [
    "# Definition for singly-linked list.\n",
    "# class ListNode:\n",
    "#     def __init__(self, x):\n",
    "#         self.val = x\n",
    "#         self.next = None\n",
    "\n",
    "class Solution:\n",
    "    def hasCycle(self, head: Optional[ListNode]) -> bool:\n",
    "        slow, fast = head, head\n",
    "        while fast and fast.next:\n",
    "            slow = slow.next\n",
    "            fast = fast.next.next\n",
    "            if slow == fast:\n",
    "                return True\n",
    "            \n",
    "        return False"
   ]
  }
 ],
 "metadata": {
  "kernelspec": {
   "display_name": "Python 3",
   "language": "python",
   "name": "python3"
  },
  "language_info": {
   "codemirror_mode": {
    "name": "ipython",
    "version": 3
   },
   "file_extension": ".py",
   "mimetype": "text/x-python",
   "name": "python",
   "nbconvert_exporter": "python",
   "pygments_lexer": "ipython3",
   "version": "3.8.8"
  }
 },
 "nbformat": 4,
 "nbformat_minor": 5
}
