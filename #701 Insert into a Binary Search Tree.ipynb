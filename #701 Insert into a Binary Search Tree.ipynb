{
 "cells": [
  {
   "cell_type": "code",
   "execution_count": null,
   "id": "843589cc",
   "metadata": {},
   "outputs": [],
   "source": [
    "You are given the root node of a binary search tree (BST) and a value to insert into the tree. Return the root node of the BST after the insertion. It is guaranteed that the new value does not exist in the original BST.\n",
    "\n",
    "Notice that there may exist multiple valid ways for the insertion, as long as the tree remains a BST after insertion. You can return any of them."
   ]
  },
  {
   "cell_type": "code",
   "execution_count": null,
   "id": "99462cef",
   "metadata": {},
   "outputs": [],
   "source": [
    "# iterative"
   ]
  },
  {
   "cell_type": "code",
   "execution_count": null,
   "id": "36d1b54d",
   "metadata": {},
   "outputs": [],
   "source": [
    "# Definition for a binary tree node.\n",
    "# class TreeNode:\n",
    "#     def __init__(self, val=0, left=None, right=None):\n",
    "#         self.val = val\n",
    "#         self.left = left\n",
    "#         self.right = right\n",
    "class Solution:\n",
    "    def insertIntoBST(self, root: Optional[TreeNode], val: int) -> Optional[TreeNode]:\n",
    "    \n",
    "        newNode = TreeNode(val = val)\n",
    "        \n",
    "        if not root:\n",
    "            return newNode\n",
    "        \n",
    "        cur = root\n",
    "        while cur:\n",
    "            if val < cur.val:\n",
    "                if cur.left:\n",
    "                    cur = cur.left\n",
    "                else:\n",
    "                    cur.left = newNode\n",
    "                    break\n",
    "            else:\n",
    "                if cur.right:\n",
    "                    cur = cur.right\n",
    "                else:\n",
    "                    cur.right = newNode\n",
    "                    break\n",
    "        return root"
   ]
  },
  {
   "cell_type": "code",
   "execution_count": null,
   "id": "c5ae0e0e",
   "metadata": {},
   "outputs": [],
   "source": [
    "# recursive"
   ]
  },
  {
   "cell_type": "code",
   "execution_count": null,
   "id": "c2c41dc1",
   "metadata": {},
   "outputs": [],
   "source": [
    "class Solution:\n",
    "    def insertIntoBST(self, root: Optional[TreeNode], val: int) -> Optional[TreeNode]:\n",
    "\n",
    "        if root is None: \n",
    "            return TreeNode(val) \n",
    "        if root.val > val:  \n",
    "            root.left = self.insertIntoBST(root.left, val)\n",
    "        else: \n",
    "            root.right = self.insertIntoBST(root.right, val)\n",
    "        return root"
   ]
  }
 ],
 "metadata": {
  "kernelspec": {
   "display_name": "Python 3",
   "language": "python",
   "name": "python3"
  },
  "language_info": {
   "codemirror_mode": {
    "name": "ipython",
    "version": 3
   },
   "file_extension": ".py",
   "mimetype": "text/x-python",
   "name": "python",
   "nbconvert_exporter": "python",
   "pygments_lexer": "ipython3",
   "version": "3.8.8"
  }
 },
 "nbformat": 4,
 "nbformat_minor": 5
}
