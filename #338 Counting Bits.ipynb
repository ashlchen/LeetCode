{
 "cells": [
  {
   "cell_type": "code",
   "execution_count": null,
   "metadata": {},
   "outputs": [],
   "source": [
    "class Solution:\n",
    "    def countBits(self, n: int) -> List[int]:\n",
    "        ans = [None] * (n+1)                # create an array of n+1 space\n",
    "        ans[0] = 0                          # initialize the first element as 0\n",
    "        for i in range(1,n+1):         \n",
    "            if i&1 == 0:                    # if the last digit is 0...meaning it's an even number\n",
    "                ans[i] = ans[i>>1]          # it equal to the number of 1 of previous even number\n",
    "            else: \n",
    "                ans[i] = ans[i>>1] + 1      # it equal to the previous number + the additional 1 at the end\n",
    "        return ans"
   ]
  },
  {
   "cell_type": "markdown",
   "metadata": {},
   "source": [
    "Given an integer n, return an array ans of length n + 1 such that for each i (0 <= i <= n), ans[i] is the number of 1's in the binary representation of i."
   ]
  }
 ],
 "metadata": {
  "language_info": {
   "name": "python"
  },
  "orig_nbformat": 4
 },
 "nbformat": 4,
 "nbformat_minor": 2
}
