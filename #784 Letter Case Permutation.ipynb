{
 "cells": [
  {
   "cell_type": "code",
   "execution_count": null,
   "metadata": {},
   "outputs": [],
   "source": [
    "res = []\n",
    "        my_str = []\n",
    "\n",
    "        def make_list():\n",
    "            for char in s:\n",
    "                my_str.append(char)\n",
    "\n",
    "        def backtrack(i):\n",
    "            if i == len(my_str):\n",
    "                res.append(\"\".join(my_str))\n",
    "                return\n",
    "            if my_str[i].isdigit() == True:\n",
    "                backtrack(i + 1)\n",
    "            else:\n",
    "                my_str[i] = my_str[i].lower()\n",
    "                backtrack(i + 1)\n",
    "                my_str[i] = my_str[i].upper()\n",
    "                backtrack(i + 1)\n",
    "\n",
    "        make_list()\n",
    "        backtrack(0)\n",
    "        return res"
   ]
  },
  {
   "cell_type": "markdown",
   "metadata": {},
   "source": [
    "Given a string s, you can transform every letter individually to be lowercase or uppercase to create another string.\n",
    "\n",
    "Return a list of all possible strings we could create. Return the output in any order."
   ]
  }
 ],
 "metadata": {
  "language_info": {
   "name": "python"
  },
  "orig_nbformat": 4
 },
 "nbformat": 4,
 "nbformat_minor": 2
}
