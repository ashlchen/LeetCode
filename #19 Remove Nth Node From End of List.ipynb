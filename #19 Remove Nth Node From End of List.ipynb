{
 "cells": [
  {
   "cell_type": "code",
   "execution_count": null,
   "metadata": {},
   "outputs": [],
   "source": [
    "class Solution:\n",
    "    def removeNthFromEnd(self, head: Optional[ListNode], n: int) -> Optional[ListNode]: \n",
    "        dummy = ListNode()\n",
    "        l = dummy\n",
    "        dummy.next = head\n",
    "        r = head\n",
    "        # make sure the distance between l and r is n nodes\n",
    "        for _ in range(n):\n",
    "            r = r.next\n",
    "        # when r is null, we know that left pointer is located the one before the deleted node\n",
    "        while r:\n",
    "            r = r.next\n",
    "            l = l.next\n",
    "        l.next = l.next.next\n",
    "        return dummy.next"
   ]
  },
  {
   "cell_type": "code",
   "execution_count": null,
   "metadata": {},
   "outputs": [],
   "source": [
    "        # first attemp - using prv and cur to delee node\n",
    "        totalLength, count = 0, 0\n",
    "        cur, res = head, head\n",
    "        prev = ListNode()\n",
    "        prev.next = head\n",
    "        while cur:\n",
    "            totalLength += 1\n",
    "            cur = cur.next\n",
    "        \n",
    "        while res:\n",
    "            if count == totalLength - n:\n",
    "                if count == 0:\n",
    "                    head = res.next\n",
    "                    break\n",
    "                prev.next = res.next\n",
    "                res = res.next\n",
    "                prev = prev.next\n",
    "                count += 1\n",
    "            else:\n",
    "                res = res.next\n",
    "                prev = prev.next\n",
    "                count += 1"
   ]
  },
  {
   "cell_type": "markdown",
   "metadata": {},
   "source": [
    "Given the head of a linked list, remove the nth node from the end of the list and return its head."
   ]
  }
 ],
 "metadata": {
  "language_info": {
   "name": "python"
  },
  "orig_nbformat": 4
 },
 "nbformat": 4,
 "nbformat_minor": 2
}
