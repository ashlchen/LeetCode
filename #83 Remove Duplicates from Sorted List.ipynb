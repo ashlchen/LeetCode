{
 "cells": [
  {
   "cell_type": "code",
   "execution_count": null,
   "id": "bc12e5b7",
   "metadata": {},
   "outputs": [],
   "source": [
    "Given the head of a sorted linked list, delete all duplicates such that each element appears only once. Return the linked list sorted as well."
   ]
  },
  {
   "cell_type": "code",
   "execution_count": null,
   "id": "89fbbcb3",
   "metadata": {},
   "outputs": [],
   "source": [
    "# Definition for singly-linked list.\n",
    "# class ListNode:\n",
    "#     def __init__(self, val=0, next=None):\n",
    "#         self.val = val\n",
    "#         self.next = next\n",
    "class Solution:\n",
    "    def deleteDuplicates(self, head: Optional[ListNode]) -> Optional[ListNode]:\n",
    "        lookup = {}\n",
    "        prev = ListNode\n",
    "        cur = head\n",
    "        prev.next = cur\n",
    "        while cur:\n",
    "            if cur.val in lookup:\n",
    "                prev.next = cur.next\n",
    "                cur = cur.next\n",
    "            else:\n",
    "                lookup[cur.val] = 1\n",
    "                cur = cur.next\n",
    "                prev = prev.next\n",
    "        \n",
    "        return head"
   ]
  }
 ],
 "metadata": {
  "kernelspec": {
   "display_name": "Python 3",
   "language": "python",
   "name": "python3"
  },
  "language_info": {
   "codemirror_mode": {
    "name": "ipython",
    "version": 3
   },
   "file_extension": ".py",
   "mimetype": "text/x-python",
   "name": "python",
   "nbconvert_exporter": "python",
   "pygments_lexer": "ipython3",
   "version": "3.8.8"
  }
 },
 "nbformat": 4,
 "nbformat_minor": 5
}
