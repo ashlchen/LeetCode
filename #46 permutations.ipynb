{
 "cells": [
  {
   "cell_type": "code",
   "execution_count": null,
   "metadata": {},
   "outputs": [],
   "source": [
    "class Solution:\n",
    "    def permute(self, nums: List[int]) -> List[List[int]]:\n",
    "        res=[]\n",
    "        \n",
    "        #base case\n",
    "        if len(nums) ==1:\n",
    "            return [nums[:]] # [:] make a copy # [] need to wrap another list outside of list\n",
    "        \n",
    "        for i in range(len(nums)):\n",
    "            n = nums.pop(0) \n",
    "            perms = self.permute(nums) # recursive call, run here first and then come out, dfs\n",
    "            \n",
    "            for perm in perms:\n",
    "                perm.append(n)\n",
    "            res.extend(perms) # extend: concatenant two lists into one\n",
    "            nums.append(n) # add the first num to the end of the list\n",
    "        return res"
   ]
  },
  {
   "cell_type": "code",
   "execution_count": null,
   "metadata": {},
   "outputs": [],
   "source": [
    "    # DFS\n",
    "    def permute(self, nums):\n",
    "        res = []\n",
    "        self.dfs(nums, [], res)\n",
    "        return res\n",
    "\n",
    "    def dfs(self, nums, path, res):\n",
    "        if not nums:\n",
    "            res.append(path)\n",
    "            # return # backtracking\n",
    "        for i in xrange(len(nums)):\n",
    "            self.dfs(nums[:i]+nums[i+1:], path+[nums[i]], res)\n",
    "            # nums[:i] all num before the current num\n",
    "            # nums[i+1] all num after the current num\n",
    "            # add current num to the combination"
   ]
  },
  {
   "cell_type": "markdown",
   "metadata": {},
   "source": [
    "Given an array nums of distinct integers, return all the possible permutations. You can return the answer in any order."
   ]
  }
 ],
 "metadata": {
  "language_info": {
   "name": "python"
  },
  "orig_nbformat": 4
 },
 "nbformat": 4,
 "nbformat_minor": 2
}
