{
 "cells": [
  {
   "cell_type": "code",
   "execution_count": null,
   "metadata": {},
   "outputs": [],
   "source": [
    "class Solution:\n",
    "    def orangesRotting(self, grid: List[List[int]]) -> int:\n",
    "        r, c = len(grid), len(grid[0])\n",
    "        DIR = [0, 1, 0, -1, 0]\n",
    "        q = deque()\n",
    "        count = 0\n",
    "        fresh = 0\n",
    "        # add rotten oranges into the queue\n",
    "        for i in range(r):\n",
    "            for j in range(c):\n",
    "                if grid[i][j] == 2:\n",
    "                    q.append((i, j))\n",
    "                elif grid[i][j] == 1:\n",
    "                    fresh += 1\n",
    "                else:\n",
    "                    continue\n",
    "        \n",
    "        # starting spreading\n",
    "        while q:\n",
    "            L = len(q)\n",
    "            # each count there's a set of oranges got rotten\n",
    "            for _ in range(L):\n",
    "                rol, col = q.popleft()\n",
    "                for i in range(4):\n",
    "                    nrow, ncol = rol + DIR[i], col + DIR[i+1]\n",
    "                    if nrow < 0 or nrow == r or ncol < 0 or ncol == c or grid[nrow][ncol] != 1:\n",
    "                        continue\n",
    "                    else:\n",
    "                        grid[nrow][ncol] = grid[nrow][ncol] + 1\n",
    "                        q.append((nrow, ncol))\n",
    "                        fresh -= 1\n",
    "            count +=1\n",
    "\n",
    "            \n",
    "        if fresh > 0:\n",
    "            return -1\n",
    "        else:\n",
    "            return count\n",
    "        "
   ]
  },
  {
   "cell_type": "markdown",
   "metadata": {},
   "source": [
    "You are given an m x n grid where each cell can have one of three values:\n",
    "\n",
    "0 representing an empty cell,\n",
    "1 representing a fresh orange, or\n",
    "2 representing a rotten orange.\n",
    "Every minute, any fresh orange that is 4-directionally adjacent to a rotten orange becomes rotten.\n",
    "\n",
    "Return the minimum number of minutes that must elapse until no cell has a fresh orange. If this is impossible, return -1.\n",
    "\n",
    " "
   ]
  }
 ],
 "metadata": {
  "language_info": {
   "name": "python"
  },
  "orig_nbformat": 4
 },
 "nbformat": 4,
 "nbformat_minor": 2
}
