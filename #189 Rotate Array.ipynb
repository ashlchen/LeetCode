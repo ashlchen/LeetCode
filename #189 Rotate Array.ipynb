{
 "cells": [
  {
   "cell_type": "code",
   "execution_count": null,
   "metadata": {},
   "outputs": [],
   "source": [
    "#O(1)\n",
    "\n",
    "class Solution:\n",
    "    def rotate(self, nums: List[int], k: int) -> None:\n",
    "        \"\"\"\n",
    "        Do not return anything, modify nums in-place instead.\n",
    "        \"\"\"\n",
    "\n",
    "        def reverse(l, r):\n",
    "            while l <= r:\n",
    "                nums[l], nums[r] = nums[r], nums[l]\n",
    "                r -= 1\n",
    "                l += 1\n",
    "                \n",
    "        k = k % len(nums)\n",
    "        reverse(0, len(nums)-1)\n",
    "        reverse(0, k-1)\n",
    "        reverse(k, len(nums) -1)"
   ]
  },
  {
   "cell_type": "code",
   "execution_count": null,
   "metadata": {},
   "outputs": [],
   "source": [
    "#O(n)\n",
    "\n",
    "        res = [0] * len(nums)\n",
    "        \n",
    "        for i in range(len(nums)):\n",
    "            new = (i + k) % len(nums)\n",
    "            \n",
    "            res[new] = nums[i]\n",
    "            \n",
    "        nums[:] = res[:]"
   ]
  },
  {
   "cell_type": "markdown",
   "metadata": {},
   "source": [
    "Given an array, rotate the array to the right by k steps, where k is non-negative."
   ]
  }
 ],
 "metadata": {
  "language_info": {
   "name": "python"
  },
  "orig_nbformat": 4
 },
 "nbformat": 4,
 "nbformat_minor": 2
}
