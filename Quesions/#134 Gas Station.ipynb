{
 "cells": [
  {
   "cell_type": "code",
   "execution_count": null,
   "metadata": {},
   "outputs": [],
   "source": [
    "class Solution:\n",
    "    def canCompleteCircuit(self, gas: List[int], cost: List[int]) -> int:\n",
    "        if sum(gas) < sum(cost):\n",
    "            return -1\n",
    "        total = 0\n",
    "        res = 0\n",
    "        for i in range(len(gas)):\n",
    "            total += (gas[i] - cost[i])\n",
    "            \n",
    "            if total < 0:\n",
    "                total = 0\n",
    "                res = i + 1\n",
    "        \n",
    "        return res"
   ]
  },
  {
   "cell_type": "markdown",
   "metadata": {},
   "source": [
    "There are n gas stations along a circular route, where the amount of gas at the ith station is gas[i].\n",
    "\n",
    "You have a car with an unlimited gas tank and it costs cost[i] of gas to travel from the ith station to its next (i + 1)th station. You begin the journey with an empty tank at one of the gas stations.\n",
    "\n",
    "Given two integer arrays gas and cost, return the starting gas station's index if you can travel around the circuit once in the clockwise direction, otherwise return -1. If there exists a solution, it is guaranteed to be unique"
   ]
  },
  {
   "cell_type": "markdown",
   "metadata": {},
   "source": [
    "Greedy: \n",
    "1) if the sum of cost is greater than the sum of the gas, then we must return -1 as there is no solution to reach the goal\n",
    "2) Loop through the array, we can skip the negative gas-cost difference as we definitely can't start from that gas station. the first positive sum must be the starting point, because we know there is one unique answer guarenteed "
   ]
  }
 ],
 "metadata": {
  "language_info": {
   "name": "python"
  },
  "orig_nbformat": 4
 },
 "nbformat": 4,
 "nbformat_minor": 2
}
