{
 "cells": [
  {
   "cell_type": "code",
   "execution_count": null,
   "metadata": {},
   "outputs": [],
   "source": [
    "class Solution:\n",
    "    def lengthOfLongestSubstring(self, s: str) -> int:\n",
    "\n",
    "        charDict = {}\n",
    "        l = 0\n",
    "        res = 0\n",
    "        for i in range(len(s)):\n",
    "\n",
    "            # if the char has come up before and only exists earlier than the current substring\n",
    "            if s[i] in charDict and l <= charDict[s[i]]:\n",
    "                l = charDict[s[i]] + 1\n",
    "            charDict[s[i]] = i\n",
    "            res = max(res, i-l+1)\n",
    "        return res\n",
    "                "
   ]
  },
  {
   "cell_type": "markdown",
   "metadata": {},
   "source": [
    "4/4 practiced third time"
   ]
  },
  {
   "cell_type": "markdown",
   "metadata": {},
   "source": [
    "Given a string s, find the length of the longest substring without repeating characters."
   ]
  }
 ],
 "metadata": {
  "language_info": {
   "name": "python"
  },
  "orig_nbformat": 4
 },
 "nbformat": 4,
 "nbformat_minor": 2
}
