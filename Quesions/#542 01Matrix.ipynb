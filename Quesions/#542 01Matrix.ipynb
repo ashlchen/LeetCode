{
 "cells": [
  {
   "cell_type": "code",
   "execution_count": null,
   "metadata": {},
   "outputs": [],
   "source": [
    "class Solution:\n",
    "    def updateMatrix(self, mat: List[List[int]]) -> List[List[int]]:\n",
    "        \n",
    "        m, n = len(mat), len(mat[0])\n",
    "#       [0,1], [1,0], [0,-1], [-1,0]  \n",
    "        DIR = [0, 1, 0, -1, 0]\n",
    "#       bfs solution - using queue\n",
    "        q = deque([])\n",
    "        for r in range(m):\n",
    "            for c in range(n):\n",
    "                if mat[r][c] == 0: # for zero value cell, put in the queue as source\n",
    "                    q.append((r, c))\n",
    "                else:\n",
    "                    mat[r][c] = -1  # Marked as not processed yet!, and not append into queue\n",
    "\n",
    "        while q: # q only has zero value cell or visited cell\n",
    "            r, c = q.popleft()\n",
    "            for i in range(4): # 4 direction\n",
    "                nr, nc = r + DIR[i], c + DIR[i + 1]\n",
    "                if nr < 0 or nr == m or nc < 0 or nc == n or mat[nr][nc] != -1: continue # if neighbor out of bound or already 0\n",
    "                mat[nr][nc] = mat[r][c] + 1 # else, mark neighbor value to 1 > also means distance to 0 is 1\n",
    "                # ^ this is bfs concept: add 1 to the distance of the source\n",
    "                q.append((nr, nc)) # append neighbor\n",
    "        return mat"
   ]
  },
  {
   "cell_type": "markdown",
   "metadata": {},
   "source": [
    "Use BFS to solve this question!\n",
    "1) add source node to the queue\n",
    "2) pop each time, add distance, and add its neighbors to the queue\n",
    "3) continue until the queue is empty"
   ]
  },
  {
   "cell_type": "markdown",
   "metadata": {},
   "source": [
    "Given an m x n binary matrix mat, return the distance of the nearest 0 for each cell.\n",
    "\n",
    "The distance between two adjacent cells is 1."
   ]
  }
 ],
 "metadata": {
  "language_info": {
   "name": "python"
  },
  "orig_nbformat": 4
 },
 "nbformat": 4,
 "nbformat_minor": 2
}
