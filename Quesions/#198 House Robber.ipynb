{
 "cells": [
  {
   "cell_type": "code",
   "execution_count": null,
   "metadata": {},
   "outputs": [],
   "source": [
    "class Solution:\n",
    "    def rob(self, nums: List[int]) -> int:\n",
    "#         ans = []\n",
    "        \n",
    "#         def helper(position, sum1):\n",
    "#             if position >= len(nums):\n",
    "#                 ans.append(sum1)\n",
    "#                 return\n",
    "#             helper(position+2, sum1+nums[position])\n",
    "#             helper(position+3, sum1+nums[position])\n",
    "            \n",
    "#         helper(0,0)\n",
    "#         helper(1,0)\n",
    "#         return max(ans)\n",
    "        \n",
    "        L = len(nums)\n",
    "        \n",
    "        if L == 1:\n",
    "            return nums[0]\n",
    "        if L == 2:\n",
    "            return max(nums[0], nums[1])\n",
    "        \n",
    "        nums[1] = max(nums[0], nums[1])\n",
    "        for i in range(2, L):\n",
    "            nums[i] = max(nums[i] + nums[i-2], nums[i-1])\n",
    "            \n",
    "        return nums[L-1]"
   ]
  },
  {
   "cell_type": "markdown",
   "metadata": {},
   "source": [
    "The upper part is recursive solution, which exceeds time limit\n",
    "\n",
    "The bottom iterative solution: update each nums[i] to be the max value of the robbery\n",
    "ie. nums[2] can be either nums[0]+nums[2] or nums[1]\n",
    "keep updating until the last position"
   ]
  },
  {
   "cell_type": "markdown",
   "metadata": {},
   "source": [
    "You are a professional robber planning to rob houses along a street. Each house has a certain amount of money stashed, the only constraint stopping you from robbing each of them is that adjacent houses have security systems connected and it will automatically contact the police if two adjacent houses were broken into on the same night.\n",
    "\n",
    "Given an integer array nums representing the amount of money of each house, return the maximum amount of money you can rob tonight without alerting the police.\n",
    "\n",
    " "
   ]
  }
 ],
 "metadata": {
  "language_info": {
   "name": "python"
  },
  "orig_nbformat": 4
 },
 "nbformat": 4,
 "nbformat_minor": 2
}
