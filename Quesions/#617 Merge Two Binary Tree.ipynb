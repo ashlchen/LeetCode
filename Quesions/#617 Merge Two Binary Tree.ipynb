{
 "cells": [
  {
   "cell_type": "code",
   "execution_count": null,
   "metadata": {},
   "outputs": [],
   "source": [
    "class Solution:\n",
    "    def mergeTrees(self, root1: Optional[TreeNode], root2: Optional[TreeNode]) -> Optional[TreeNode]:\n",
    "        \n",
    "        if not root1 and not root2:\n",
    "            return None\n",
    "        \n",
    "        res = TreeNode(val = (root1.val if root1 else 0) + (root2.val if root2 else 0))\n",
    "            \n",
    "        res.left = self.mergeTrees(root1.left if root1 else None, root2.left if root2 else None)\n",
    "        res.right = self.mergeTrees(root1.right if root1 else None, root2.right if root2 else None)\n",
    "        \n",
    "        return res"
   ]
  },
  {
   "cell_type": "markdown",
   "metadata": {},
   "source": [
    "You are given two binary trees root1 and root2.\n",
    "\n",
    "Imagine that when you put one of them to cover the other, some nodes of the two trees are overlapped while the others are not. You need to merge the two trees into a new binary tree. The merge rule is that if two nodes overlap, then sum node values up as the new value of the merged node. Otherwise, the NOT null node will be used as the node of the new tree.\n",
    "\n",
    "Return the merged tree.\n",
    "\n",
    "Note: The merging process must start from the root nodes of both trees."
   ]
  }
 ],
 "metadata": {
  "language_info": {
   "name": "python"
  },
  "orig_nbformat": 4
 },
 "nbformat": 4,
 "nbformat_minor": 2
}
