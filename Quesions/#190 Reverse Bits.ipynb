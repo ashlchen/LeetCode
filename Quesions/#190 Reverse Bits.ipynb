{
 "cells": [
  {
   "cell_type": "code",
   "execution_count": null,
   "metadata": {},
   "outputs": [],
   "source": [
    "class Solution:\n",
    "    def reverseBits(self, n: int) -> int:\n",
    "        ans = 0                             # initialize as 00000000000000000000000000000000\n",
    "        for i in range(32):                 # loop through 32 times to append each bit\n",
    "            ans = (ans << 1) + (n & 1)      # n & 1: check if last bit of n is 1 or 0, \n",
    "                                            # ans << 1: shift all bits in the ans 1 bit to the left\n",
    "                                            # the plus operator append last bit to the new ans\n",
    "            n >>= 1                         # remove rightmost bit since we have already checked it\n",
    "        return ans"
   ]
  },
  {
   "cell_type": "markdown",
   "metadata": {},
   "source": [
    "Reverse bits of a given 32 bits unsigned integer.\n",
    "\n",
    "so 00000010100101000001111010011100 will become 00111001011110000010100101000000"
   ]
  }
 ],
 "metadata": {
  "language_info": {
   "name": "python"
  },
  "orig_nbformat": 4
 },
 "nbformat": 4,
 "nbformat_minor": 2
}
