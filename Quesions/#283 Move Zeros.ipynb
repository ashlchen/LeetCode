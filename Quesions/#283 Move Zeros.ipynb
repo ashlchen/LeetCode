{
 "cells": [
  {
   "cell_type": "code",
   "execution_count": null,
   "metadata": {},
   "outputs": [],
   "source": [
    "class Solution:\n",
    "    def moveZeroes(self, nums: List[int]) -> None:\n",
    "        \"\"\"\n",
    "        Do not return anything, modify nums in-place instead.\n",
    "        \"\"\"\n",
    "        \n",
    "        # two pointers\n",
    "\n",
    "        l = 0\n",
    "        r = len(nums) - 1\n",
    "        \n",
    "        while l <= r:\n",
    "            if nums[l] == 0:\n",
    "                del nums[l]\n",
    "                nums.append(0)\n",
    "                r -= 1\n",
    "            else:\n",
    "                l += 1"
   ]
  },
  {
   "cell_type": "markdown",
   "metadata": {},
   "source": [
    "Given an integer array nums, move all 0's to the end of it while maintaining the relative order of the non-zero elements.\n",
    "\n",
    "Note that you must do this in-place without making a copy of the array."
   ]
  },
  {
   "cell_type": "code",
   "execution_count": null,
   "metadata": {},
   "outputs": [],
   "source": [
    "        # Cool tricks\n",
    "        \n",
    "        r = [i for i in nums if i == 0]\n",
    "        l = [i for i in nums if i != 0]\n",
    "        re = l + r\n",
    "        nums[:] = re"
   ]
  }
 ],
 "metadata": {
  "language_info": {
   "name": "python"
  },
  "orig_nbformat": 4
 },
 "nbformat": 4,
 "nbformat_minor": 2
}
