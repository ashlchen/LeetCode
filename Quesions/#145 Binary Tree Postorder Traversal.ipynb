{
 "cells": [
  {
   "cell_type": "code",
   "execution_count": null,
   "id": "22586462",
   "metadata": {},
   "outputs": [],
   "source": [
    "Given the root of a binary tree, return the postorder traversal of its nodes' values."
   ]
  },
  {
   "cell_type": "code",
   "execution_count": null,
   "id": "1dfc3e20",
   "metadata": {},
   "outputs": [],
   "source": [
    "# Left, right, middle"
   ]
  },
  {
   "cell_type": "code",
   "execution_count": null,
   "id": "08760819",
   "metadata": {},
   "outputs": [],
   "source": [
    "# recursive\n",
    "\n",
    " def down(cur):\n",
    "            \n",
    "            if cur.left:\n",
    "                down(cur.left)\n",
    "                \n",
    "            if cur.right:\n",
    "                down(cur.right)\n",
    "            \n",
    "            res.append(cur.val)\n",
    "            \n",
    "        down(root)\n",
    "        \n",
    "        return res"
   ]
  },
  {
   "cell_type": "code",
   "execution_count": null,
   "id": "5b7f9370",
   "metadata": {},
   "outputs": [],
   "source": [
    "# iterative\n",
    "\n",
    "# Definition for a binary tree node.\n",
    "# class TreeNode:\n",
    "#     def __init__(self, val=0, left=None, right=None):\n",
    "#         self.val = val\n",
    "#         self.left = left\n",
    "#         self.right = right\n",
    "class Solution:\n",
    "    def postorderTraversal(self, root: Optional[TreeNode]) -> List[int]:\n",
    "        \n",
    "        if not root:\n",
    "            return []\n",
    "        \n",
    "        stack = [root]\n",
    "        res = deque()\n",
    "        while stack:\n",
    "            node = stack.pop()\n",
    "            res.appendleft(node.val)\n",
    "            if node.left:\n",
    "                stack.append(node.left)\n",
    "            if node.right:\n",
    "                stack.append(node.right)\n",
    "        return res"
   ]
  }
 ],
 "metadata": {
  "kernelspec": {
   "display_name": "Python 3",
   "language": "python",
   "name": "python3"
  },
  "language_info": {
   "codemirror_mode": {
    "name": "ipython",
    "version": 3
   },
   "file_extension": ".py",
   "mimetype": "text/x-python",
   "name": "python",
   "nbconvert_exporter": "python",
   "pygments_lexer": "ipython3",
   "version": "3.8.8"
  }
 },
 "nbformat": 4,
 "nbformat_minor": 5
}
