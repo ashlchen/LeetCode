{
 "cells": [
  {
   "cell_type": "code",
   "execution_count": null,
   "id": "2705238b",
   "metadata": {},
   "outputs": [],
   "source": [
    "Given the root of a Binary Search Tree and a target number k, return true if there exist two elements in the BST such that their sum is equal to the given target."
   ]
  },
  {
   "cell_type": "code",
   "execution_count": null,
   "id": "7121d993",
   "metadata": {},
   "outputs": [],
   "source": [
    "Add each node in the array and Loop through the array\n",
    "When looping, add each node into the set >> nodes that have been visited\n",
    "To find any two elements sum, check if the target-cur node is in the set"
   ]
  },
  {
   "cell_type": "code",
   "execution_count": null,
   "id": "0d37a3d7",
   "metadata": {},
   "outputs": [],
   "source": [
    "# Definition for a binary tree node.\n",
    "# class TreeNode:\n",
    "#     def __init__(self, val=0, left=None, right=None):\n",
    "#         self.val = val\n",
    "#         self.left = left\n",
    "#         self.right = right\n",
    "class Solution:\n",
    "    def findTarget(self, root: Optional[TreeNode], k: int) -> bool:\n",
    "        if not root:\n",
    "            return False\n",
    "        bfs, s = [root], set()\n",
    "        \n",
    "        for i in bfs:\n",
    "            if k - i.val in s:\n",
    "                return True\n",
    "            s.add(i.val)\n",
    "            if i.left: \n",
    "                bfs.append(i.left)\n",
    "            if i.right: \n",
    "                bfs.append(i.right)\n",
    "        return False"
   ]
  }
 ],
 "metadata": {
  "kernelspec": {
   "display_name": "Python 3",
   "language": "python",
   "name": "python3"
  },
  "language_info": {
   "codemirror_mode": {
    "name": "ipython",
    "version": 3
   },
   "file_extension": ".py",
   "mimetype": "text/x-python",
   "name": "python",
   "nbconvert_exporter": "python",
   "pygments_lexer": "ipython3",
   "version": "3.8.8"
  }
 },
 "nbformat": 4,
 "nbformat_minor": 5
}
