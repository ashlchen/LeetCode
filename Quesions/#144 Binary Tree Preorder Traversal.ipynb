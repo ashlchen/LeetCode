{
 "cells": [
  {
   "cell_type": "code",
   "execution_count": null,
   "id": "d218198d",
   "metadata": {},
   "outputs": [],
   "source": [
    "Given the root of a binary tree, return the preorder traversal of its nodes' values."
   ]
  },
  {
   "cell_type": "code",
   "execution_count": null,
   "id": "6ef291c4",
   "metadata": {},
   "outputs": [],
   "source": [
    "#iterative solution"
   ]
  },
  {
   "cell_type": "code",
   "execution_count": null,
   "id": "2f923d22",
   "metadata": {},
   "outputs": [],
   "source": [
    " # Definition for a binary tree node.\n",
    "# class TreeNode:\n",
    "#     def __init__(self, val=0, left=None, right=None):\n",
    "#         self.val = val\n",
    "#         self.left = left\n",
    "#         self.right = right\n",
    "class Solution:\n",
    "    def preorderTraversal(self, root: Optional[TreeNode]) -> List[int]:       \n",
    "        if not root:\n",
    "            return []\n",
    "        \n",
    "        stack = [root]\n",
    "        result = []\n",
    "        \n",
    "        while stack:\n",
    "            root = stack.pop()\n",
    "            if root:\n",
    "                stack.append(root.right)\n",
    "                stack.append(root.left)\n",
    "                result.append(root.val)            \n",
    "        return result"
   ]
  },
  {
   "cell_type": "code",
   "execution_count": null,
   "id": "6151497b",
   "metadata": {},
   "outputs": [],
   "source": [
    "# recursive solution"
   ]
  },
  {
   "cell_type": "code",
   "execution_count": null,
   "id": "45f21d08",
   "metadata": {},
   "outputs": [],
   "source": [
    "        res = []\n",
    "        \n",
    "        if not root:\n",
    "            return []\n",
    "        \n",
    "        def down(cur):\n",
    "            l = cur.left\n",
    "            r = cur.right\n",
    "\n",
    "            res.append(cur.val)\n",
    "            if l:\n",
    "                down(l)\n",
    "            if r:\n",
    "                down(r)\n",
    "                \n",
    "        down(root)\n",
    "        \n",
    "        return res"
   ]
  }
 ],
 "metadata": {
  "kernelspec": {
   "display_name": "Python 3",
   "language": "python",
   "name": "python3"
  },
  "language_info": {
   "codemirror_mode": {
    "name": "ipython",
    "version": 3
   },
   "file_extension": ".py",
   "mimetype": "text/x-python",
   "name": "python",
   "nbconvert_exporter": "python",
   "pygments_lexer": "ipython3",
   "version": "3.8.8"
  }
 },
 "nbformat": 4,
 "nbformat_minor": 5
}
