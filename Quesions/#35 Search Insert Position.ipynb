{
 "cells": [
  {
   "cell_type": "code",
   "execution_count": null,
   "metadata": {},
   "outputs": [],
   "source": [
    "class Solution:\n",
    "    def searchInsert(self, nums: List[int], target: int) -> int:\n",
    "\n",
    "        def BinSearch(l, r):\n",
    "            # if left ever is bigger than right\n",
    "            if l > r:\n",
    "                return r + 1\n",
    "            \n",
    "            m = (l+r)//2\n",
    "            if nums[m] >= target:\n",
    "                return BinSearch(l, m-1)\n",
    "            elif nums[m] < target:\n",
    "                return BinSearch(m+1, r)\n",
    "                \n",
    "        return BinSearch(0, len(nums)-1)"
   ]
  },
  {
   "cell_type": "markdown",
   "metadata": {},
   "source": [
    "Given a sorted array of distinct integers and a target value, return the index if the target is found. If not, return the index where it would be if it were inserted in order.\n",
    "\n",
    "You must write an algorithm with O(log n) runtime complexity."
   ]
  }
 ],
 "metadata": {
  "language_info": {
   "name": "python"
  },
  "orig_nbformat": 4
 },
 "nbformat": 4,
 "nbformat_minor": 2
}
