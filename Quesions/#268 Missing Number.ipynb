{
 "cells": [
  {
   "cell_type": "code",
   "execution_count": null,
   "metadata": {},
   "outputs": [],
   "source": [
    "class Solution:\n",
    "    def missingNumber(self, nums: List[int]) -> int:\n",
    "        n = len(nums)\n",
    "        xor = 0\n",
    "        i = 0\n",
    "        while i < n:                      # loop through the whole list\n",
    "            xor = xor ^ i ^ nums[i]       # XOR operator will eliminate identical elements\n",
    "            i += 1\n",
    "        return xor ^ i                    # 0 ^ the missing number = the missing number"
   ]
  },
  {
   "cell_type": "code",
   "execution_count": null,
   "metadata": {},
   "outputs": [],
   "source": [
    "# Sum solution\n",
    "\n",
    "        expectedSum = ((n)*(n+1))/2\n",
    "        actualSum = sum(nums)\n",
    "        return int(expectedSum - actualSum)"
   ]
  }
 ],
 "metadata": {
  "language_info": {
   "name": "python"
  },
  "orig_nbformat": 4
 },
 "nbformat": 4,
 "nbformat_minor": 2
}
