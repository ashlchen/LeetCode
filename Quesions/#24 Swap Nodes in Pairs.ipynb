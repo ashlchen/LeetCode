{
 "cells": [
  {
   "cell_type": "code",
   "execution_count": null,
   "metadata": {},
   "outputs": [],
   "source": [
    "        # elegant recursive\n",
    "        # only move on if there's a pair exists\n",
    "        if not head or not head.next:\n",
    "            return head\n",
    "        \n",
    "        first_node = head\n",
    "        second_node = head.next\n",
    "        \n",
    "        first_node.next = self.swapPairs(second_node.next)\n",
    "        second_node.next = first_node\n",
    "        \n",
    "        return second_node"
   ]
  },
  {
   "cell_type": "code",
   "execution_count": null,
   "metadata": {},
   "outputs": [],
   "source": [
    "class Solution:\n",
    "    def swapPairs(self, head: Optional[ListNode]) -> Optional[ListNode]:\n",
    "        if not head or not head.next:\n",
    "            return head\n",
    "        # if the length of the list is 2+\n",
    "        new_head = head.next\n",
    "        \n",
    "        prev = None\n",
    "        cur = head\n",
    "        \n",
    "        while cur and cur.next:\n",
    "            cur_plus1 = cur.next\n",
    "            cur_plus2 = cur.next.next\n",
    "        \n",
    "            # swap\n",
    "            if prev:\n",
    "                prev.next = cur_plus1\n",
    "            cur_plus1.next = cur\n",
    "            cur.next = cur_plus2\n",
    "\n",
    "            # move forward\n",
    "            prev = cur\n",
    "            cur = cur.next\n",
    "        return new_head"
   ]
  },
  {
   "cell_type": "markdown",
   "metadata": {},
   "source": [
    "Given a linked list, swap every two adjacent nodes and return its head. You must solve the problem without modifying the values in the list's nodes (i.e., only nodes themselves may be changed.)"
   ]
  }
 ],
 "metadata": {
  "language_info": {
   "name": "python"
  },
  "orig_nbformat": 4
 },
 "nbformat": 4,
 "nbformat_minor": 2
}
