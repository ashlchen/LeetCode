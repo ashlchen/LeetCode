{
 "cells": [
  {
   "cell_type": "code",
   "execution_count": null,
   "id": "6dbecc77",
   "metadata": {},
   "outputs": [],
   "source": [
    "Find the max number of nodes along the longest path"
   ]
  },
  {
   "cell_type": "code",
   "execution_count": null,
   "id": "8b2baaba",
   "metadata": {},
   "outputs": [],
   "source": [
    "# DFS recursive\n",
    "\n",
    "# Definition for a binary tree node.\n",
    "# class TreeNode:\n",
    "#     def __init__(self, val=0, left=None, right=None):\n",
    "#         self.val = val\n",
    "#         self.left = left\n",
    "#         self.right = right\n",
    "class Solution:\n",
    "    def maxDepth(self, root: Optional[TreeNode]) -> int:\n",
    "\n",
    "        if not root:\n",
    "            return 0\n",
    "         \n",
    "        return 1+ max(self.maxDepth(root.left), self.maxDepth(root.right))"
   ]
  },
  {
   "cell_type": "code",
   "execution_count": null,
   "id": "041373d8",
   "metadata": {},
   "outputs": [],
   "source": [
    "# DFS iterative - preorder\n",
    "\n",
    "        if not root:\n",
    "            return 0\n",
    "\n",
    "        stack = [[root, 1]]\n",
    "        res = 1\n",
    "        while stack:\n",
    "            node, depth = stack.pop()\n",
    "\n",
    "            if node:\n",
    "                res = max(res, depth)\n",
    "                stack.append([node.left, depth + 1])\n",
    "                stack.append([node.right, depth + 1])\n",
    "        return res"
   ]
  },
  {
   "cell_type": "code",
   "execution_count": null,
   "id": "196228e5",
   "metadata": {},
   "outputs": [],
   "source": [
    "\n",
    "#BFS iterative\n",
    "        if not root:\n",
    "            return 0\n",
    "        \n",
    "        q = deque()\n",
    "        q.append(root)\n",
    "    \n",
    "        level = 0\n",
    "        \n",
    "        while q:\n",
    "            qlen = len(q)\n",
    "            for i in range(qlen):\n",
    "                n = q.popleft()\n",
    "                if n.left:\n",
    "                    q.append(n.left)\n",
    "                if n.right:\n",
    "                    q.append(n.right)\n",
    "            level += 1\n",
    "            \n",
    "        return level"
   ]
  }
 ],
 "metadata": {
  "kernelspec": {
   "display_name": "Python 3",
   "language": "python",
   "name": "python3"
  },
  "language_info": {
   "codemirror_mode": {
    "name": "ipython",
    "version": 3
   },
   "file_extension": ".py",
   "mimetype": "text/x-python",
   "name": "python",
   "nbconvert_exporter": "python",
   "pygments_lexer": "ipython3",
   "version": "3.8.8"
  }
 },
 "nbformat": 4,
 "nbformat_minor": 5
}
