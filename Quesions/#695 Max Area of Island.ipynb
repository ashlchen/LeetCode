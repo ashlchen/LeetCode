{
 "cells": [
  {
   "cell_type": "code",
   "execution_count": null,
   "metadata": {},
   "outputs": [],
   "source": [
    "class Solution:\n",
    "    def maxAreaOfIsland(self, grid: List[List[int]]) -> int:\n",
    "\n",
    "        r, c = len(grid), len(grid[0])\n",
    "        maxArea = 0\n",
    "\n",
    "        def dfs(i,j):\n",
    "            if i < 0 or i >= r or j < 0 or j >= c:\n",
    "                return 0\n",
    "            if grid[i][j] == 0:\n",
    "                return 0\n",
    "            grid[i][j] = 0\n",
    "            \n",
    "            return(1 + dfs(i+1, j)+\n",
    "            dfs(i-1, j)+\n",
    "            dfs(i, j+1)+\n",
    "            dfs(i, j-1))\n",
    "            \n",
    "\n",
    "        for j in range(c):\n",
    "            for i in range(r):\n",
    "                maxArea = max(maxArea, dfs(i, j))\n",
    "        \n",
    "        \n",
    "        return maxArea"
   ]
  },
  {
   "cell_type": "markdown",
   "metadata": {},
   "source": [
    "You are given an m x n binary matrix grid. An island is a group of 1's (representing land) connected 4-directionally (horizontal or vertical.) You may assume all four edges of the grid are surrounded by water.\n",
    "\n",
    "The area of an island is the number of cells with a value 1 in the island.\n",
    "\n",
    "Return the maximum area of an island in grid. If there is no island, return 0."
   ]
  }
 ],
 "metadata": {
  "language_info": {
   "name": "python"
  },
  "orig_nbformat": 4
 },
 "nbformat": 4,
 "nbformat_minor": 2
}
