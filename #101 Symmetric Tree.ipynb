{
 "cells": [
  {
   "cell_type": "code",
   "execution_count": null,
   "id": "68e1f6f2",
   "metadata": {},
   "outputs": [],
   "source": [
    "Given the root of a binary tree, check whether it is a mirror of itself (i.e., symmetric around its center)."
   ]
  },
  {
   "cell_type": "code",
   "execution_count": null,
   "id": "1b9171a1",
   "metadata": {},
   "outputs": [],
   "source": [
    "# Definition for a binary tree node.\n",
    "# class TreeNode:\n",
    "#     def __init__(self, val=0, left=None, right=None):\n",
    "#         self.val = val\n",
    "#         self.left = left\n",
    "#         self.right = right\n",
    "class Solution:\n",
    "    def isSymmetric(self, root):\n",
    "        if root is None:\n",
    "          return True\n",
    "        else:\n",
    "          return self.isMirror(root.left, root.right)\n",
    "\n",
    "  def isMirror(self, left, right):\n",
    "    if left is None and right is None:\n",
    "      return True\n",
    "    if left is None or right is None:\n",
    "      return False\n",
    "\n",
    "    if left.val == right.val:\n",
    "      outPair = self.isMirror(left.left, right.right)\n",
    "      inPiar = self.isMirror(left.right, right.left)\n",
    "      return outPair and inPiar\n",
    "    else:\n",
    "      return False"
   ]
  },
  {
   "cell_type": "code",
   "execution_count": null,
   "id": "d4bf0a41",
   "metadata": {},
   "outputs": [],
   "source": [
    "class Solution:\n",
    "    def isSymmetric(self, root):\n",
    "        if not root: return True\n",
    "        stack = [(root.left, root.right)]\n",
    "        while stack:\n",
    "            cur = stack.pop()\n",
    "            l, r = cur[0], cur[1]\n",
    "            if not l and not r: continue\n",
    "            if not l and r or not r and l or l.val != r.val: return False\n",
    "            stack.append((l.right, r.left))\n",
    "            stack.append((l.left, r.right))\n",
    "        return True"
   ]
  }
 ],
 "metadata": {
  "kernelspec": {
   "display_name": "Python 3",
   "language": "python",
   "name": "python3"
  },
  "language_info": {
   "codemirror_mode": {
    "name": "ipython",
    "version": 3
   },
   "file_extension": ".py",
   "mimetype": "text/x-python",
   "name": "python",
   "nbconvert_exporter": "python",
   "pygments_lexer": "ipython3",
   "version": "3.8.8"
  }
 },
 "nbformat": 4,
 "nbformat_minor": 5
}
