{
 "cells": [
  {
   "cell_type": "code",
   "execution_count": null,
   "metadata": {},
   "outputs": [],
   "source": [
    "class Solution:\n",
    "    def mergeTwoLists(self, list1: Optional[ListNode], list2: Optional[ListNode]) -> Optional[ListNode]:\n",
    "        res = ListNode() # initiate an empty node\n",
    "        tail = res # the pointer \n",
    "\n",
    "        \n",
    "        while list1 and list2: # while both lists exist\n",
    "            if list1.val <= list2.val:\n",
    "                tail.next = list1 # move from the empty node to list1 node\n",
    "                list1 = list1.next\n",
    "            else:\n",
    "                tail.next = list2 # move from the empty node to list2 node\n",
    "                list2 = list2.next\n",
    "                \n",
    "            tail = tail.next # each loop move the pointer to the next one\n",
    "            \n",
    "        if list1: # if list1 exists\n",
    "            tail.next = list1 # the rest of the list will be pointed to list1\n",
    "        elif list2:\n",
    "            tail.next = list2\n",
    "        \n",
    "        return res.next \n",
    "            "
   ]
  },
  {
   "cell_type": "markdown",
   "metadata": {},
   "source": [
    "You are given the heads of two sorted linked lists list1 and list2.\n",
    "\n",
    "Merge the two lists in a one sorted list. The list should be made by splicing together the nodes of the first two lists.\n",
    "\n",
    "Return the head of the merged linked list."
   ]
  }
 ],
 "metadata": {
  "language_info": {
   "name": "python"
  },
  "orig_nbformat": 4
 },
 "nbformat": 4,
 "nbformat_minor": 2
}
