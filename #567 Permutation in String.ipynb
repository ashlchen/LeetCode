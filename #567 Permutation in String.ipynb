{
 "cells": [
  {
   "cell_type": "code",
   "execution_count": null,
   "metadata": {},
   "outputs": [],
   "source": [
    "class Solution:\n",
    "    def checkInclusion(self, s1: str, s2: str) -> bool:\n",
    "        \n",
    "        H = {}\n",
    "        G = {}\n",
    "        Ls1 = len(s1)\n",
    "        Ls2 = len(s2)\n",
    "        \n",
    "        # edge case\n",
    "        if len(s1) > len(s2):\n",
    "            return False\n",
    "        \n",
    "        # create H dictionary\n",
    "        for k in range(Ls1):\n",
    "            if s1[k] not in H:\n",
    "                H[s1[k]] = 1\n",
    "            else:\n",
    "                H[s1[k]] += 1\n",
    "                \n",
    "        # create G dictionary\n",
    "        for k in range(Ls1):\n",
    "            if s2[k] not in G:\n",
    "                G[s2[k]] = 1\n",
    "            else:\n",
    "                G[s2[k]] += 1\n",
    "        \n",
    "        # compare the first set of the dictionaries\n",
    "        ans = (H == G)\n",
    "        \n",
    "        # sliding window\n",
    "        l = 0\n",
    "        # r pointer start with the length of s1 so the window between r and l = length of s1\n",
    "        for r in range(Ls1, Ls2):\n",
    "            # everytime we pass a char we decrease the count\n",
    "            G[s2[l]] -= 1\n",
    "            # if the count == 0 we don't need this char anymore\n",
    "            if G[s2[l]] == 0:\n",
    "                del G[s2[l]]\n",
    "\n",
    "            # store right pointer value because we haven't encountered it before\n",
    "            if s2[r] not in G:\n",
    "                G[s2[r]] = 1\n",
    "            else: \n",
    "                G[s2[r]] += 1\n",
    "                \n",
    "            # slide the window\n",
    "            l+=1\n",
    "            \n",
    "            # if current set of dictionaries are the same, store it into the answer\n",
    "            ans = ans or (H==G)\n",
    "            \n",
    "        return ans"
   ]
  },
  {
   "cell_type": "markdown",
   "metadata": {},
   "source": [
    "Given two strings s1 and s2, return true if s2 contains a permutation of s1, or false otherwise.\n",
    "\n",
    "In other words, return true if one of s1's permutations is the substring of s2."
   ]
  }
 ],
 "metadata": {
  "language_info": {
   "name": "python"
  },
  "orig_nbformat": 4
 },
 "nbformat": 4,
 "nbformat_minor": 2
}
