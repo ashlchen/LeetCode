{
 "cells": [
  {
   "cell_type": "code",
   "execution_count": null,
   "metadata": {},
   "outputs": [],
   "source": [
    "class Solution:\n",
    "    def reverseWords(self, s: str) -> str:\n",
    "        \n",
    "\n",
    "        # two pointer\n",
    "\n",
    "        l, r = 0, 0\n",
    "        res = \"\"\n",
    "        \n",
    "        s = s + \" \"\n",
    "        \n",
    "        while r <= len(s) - 1:\n",
    "            while s[r] != \" \":\n",
    "                r += 1\n",
    "            new = s[l:r]\n",
    "            res = res + new[::-1] + \" \"\n",
    "            l, r = r+1, r+1\n",
    "\n",
    "        return res.rstrip()"
   ]
  },
  {
   "cell_type": "code",
   "execution_count": null,
   "metadata": {},
   "outputs": [],
   "source": [
    "        # use split and join method\n",
    "     \n",
    "        s = s.split(\" \")\n",
    "        \n",
    "        res = []\n",
    "        for e in s:\n",
    "            res.append(e[::-1])\n",
    "        \n",
    "        # each element in res will be joined by space\n",
    "        return ' '.join(res)"
   ]
  },
  {
   "cell_type": "markdown",
   "metadata": {},
   "source": [
    "Given a string s, reverse the order of characters in each word within a sentence while still preserving whitespace and initial word order."
   ]
  }
 ],
 "metadata": {
  "language_info": {
   "name": "python"
  },
  "orig_nbformat": 4
 },
 "nbformat": 4,
 "nbformat_minor": 2
}
