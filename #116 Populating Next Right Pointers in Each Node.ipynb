{
 "cells": [
  {
   "cell_type": "code",
   "execution_count": null,
   "metadata": {},
   "outputs": [],
   "source": [
    "class Solution:\n",
    "    def connect(self, root: 'Optional[Node]') -> 'Optional[Node]':\n",
    "        \n",
    "        if not root:\n",
    "            return None\n",
    "        stack = deque([root])\n",
    "        \n",
    "        while stack:\n",
    "            # the right most node\n",
    "            right = stack.popleft()\n",
    "            L = len(stack)\n",
    "            if right:\n",
    "                stack.append(right.right)\n",
    "                stack.append(right.left)\n",
    "            # the rest of nodes on the same level\n",
    "            for i in range(L):\n",
    "                if stack[i]:\n",
    "                    stack[i].next = right\n",
    "                    right = stack[i]\n",
    "                    stack.append(right.right)\n",
    "                    stack.append(right.left)\n",
    "            # delete current level nodes\n",
    "            for _ in range(L):\n",
    "                stack.popleft()\n",
    "            \n",
    "        return root"
   ]
  },
  {
   "cell_type": "markdown",
   "metadata": {},
   "source": [
    "You are given a perfect binary tree where all leaves are on the same level, and every parent has two children. The binary tree has the following definition:\n",
    "\n",
    "Populate each next pointer to point to its next right node. If there is no next right node, the next pointer should be set to NULL.\n",
    "\n",
    "Initially, all next pointers are set to NULL."
   ]
  },
  {
   "cell_type": "code",
   "execution_count": null,
   "metadata": {},
   "outputs": [],
   "source": [
    "class Solution:\n",
    "    def connect(self, root: 'Optional[Node]') -> 'Optional[Node]':\n",
    "        \n",
    "        cur = root\n",
    "        \n",
    "        # cur.left because we want to make sure the node has children\n",
    "        while cur and cur.left:\n",
    "            # use next to move to next level\n",
    "            next = cur.left\n",
    "            while cur:\n",
    "                cur.left.next = cur.right\n",
    "                # if locate on the far right\n",
    "                if not cur.next:\n",
    "                    cur.right.next = None\n",
    "                else:\n",
    "                    cur.right.next = cur.next.left\n",
    "                # move to next node in the same level\n",
    "                cur = cur.next\n",
    "            # move down one level\n",
    "            cur = next\n",
    "        \n",
    "        return root"
   ]
  }
 ],
 "metadata": {
  "language_info": {
   "name": "python"
  },
  "orig_nbformat": 4
 },
 "nbformat": 4,
 "nbformat_minor": 2
}
