{
 "cells": [
  {
   "cell_type": "code",
   "execution_count": null,
   "metadata": {},
   "outputs": [],
   "source": [
    "class Solution:\n",
    "    def floodFill(self, image: List[List[int]], sr: int, sc: int, newColor: int) -> List[List[int]]:\n",
    "    #   get row num and column num\n",
    "        r, c = len(image), len(image[0])\n",
    "\n",
    "    #   original color\n",
    "        color = image[sr][sc]\n",
    "        \n",
    "        def dfs(i, j):\n",
    "            \n",
    "#           if the cell is out of bound\n",
    "            if i < 0 or i>=r or j < 0 or j >= c:\n",
    "                return\n",
    "#           if the current cell is already the new color or it doesn't have the original color\n",
    "            if image[i][j] == newColor or image[i][j] != color:\n",
    "                return\n",
    "#           change the eligible cell to new color\n",
    "            image[i][j] = newColor\n",
    "#           move to next next cell (4-directionally)\n",
    "            dfs(i+1, j)\n",
    "            dfs(i-1, j)\n",
    "            dfs(i,j+1)\n",
    "            dfs(i, j-1)\n",
    "#       call the function\n",
    "        dfs(sr, sc)\n",
    "    \n",
    "        return image"
   ]
  },
  {
   "cell_type": "markdown",
   "metadata": {},
   "source": [
    "An image is represented by an m x n integer grid image where image[i][j] represents the pixel value of the image.\n",
    "\n",
    "You are also given three integers sr, sc, and newColor. You should perform a flood fill on the image starting from the pixel image[sr][sc].\n",
    "\n",
    "To perform a flood fill, consider the starting pixel, plus any pixels connected 4-directionally to the starting pixel of the same color as the starting pixel, plus any pixels connected 4-directionally to those pixels (also with the same color), and so on. Replace the color of all of the aforementioned pixels with newColor.\n",
    "\n",
    "Return the modified image after performing the flood fill.\n",
    "\n",
    " "
   ]
  }
 ],
 "metadata": {
  "language_info": {
   "name": "python"
  },
  "orig_nbformat": 4
 },
 "nbformat": 4,
 "nbformat_minor": 2
}
