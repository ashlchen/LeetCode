{
 "cells": [
  {
   "cell_type": "code",
   "execution_count": null,
   "id": "9258b1c1",
   "metadata": {},
   "outputs": [],
   "source": [
    "Given the head of a singly linked list, reverse the list, and return the reversed list."
   ]
  },
  {
   "cell_type": "code",
   "execution_count": null,
   "id": "b2de05d4",
   "metadata": {},
   "outputs": [],
   "source": [
    "# Definition for singly-linked list.\n",
    "# class ListNode:\n",
    "#     def __init__(self, val=0, next=None):\n",
    "#         self.val = val\n",
    "#         self.next = next\n",
    "class Solution:\n",
    "    def reverseList(self, head: Optional[ListNode]) -> Optional[ListNode]:\n",
    "         \n",
    "        # iterative    \n",
    "        prev, curr = None, head\n",
    "        \n",
    "        while curr:\n",
    "            nxt = curr.next\n",
    "            curr.next = prev\n",
    "            prev = curr\n",
    "            curr = nxt\n",
    "        return prev"
   ]
  },
  {
   "cell_type": "code",
   "execution_count": null,
   "id": "7cdebb43",
   "metadata": {},
   "outputs": [],
   "source": [
    "        prev = None\n",
    "        \n",
    "        while head:\n",
    "            cur = head.next\n",
    "            head.next = prev\n",
    "            prev = head\n",
    "            head = cur\n",
    "            \n",
    "        return prev"
   ]
  },
  {
   "cell_type": "code",
   "execution_count": null,
   "id": "2387cd99",
   "metadata": {},
   "outputs": [],
   "source": [
    "# Definition for singly-linked list.\n",
    "# class ListNode:\n",
    "#     def __init__(self, val=0, next=None):\n",
    "#         self.val = val\n",
    "#         self.next = next\n",
    "class Solution:\n",
    "    def reverseList(self, head: Optional[ListNode]) -> Optional[ListNode]:\n",
    "    \n",
    "        # recursive\n",
    "        \n",
    "        if not head:\n",
    "            return None\n",
    "        \n",
    "        newHead = head\n",
    "        if head.next:\n",
    "            newHead = self.reverseList(head.next)\n",
    "            head.next.next = head\n",
    "        head.next = None\n",
    "        \n",
    "        return newHead"
   ]
  }
 ],
 "metadata": {
  "kernelspec": {
   "display_name": "Python 3",
   "language": "python",
   "name": "python3"
  },
  "language_info": {
   "codemirror_mode": {
    "name": "ipython",
    "version": 3
   },
   "file_extension": ".py",
   "mimetype": "text/x-python",
   "name": "python",
   "nbconvert_exporter": "python",
   "pygments_lexer": "ipython3",
   "version": "3.8.8"
  }
 },
 "nbformat": 4,
 "nbformat_minor": 5
}
