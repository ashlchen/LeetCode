{
 "cells": [
  {
   "cell_type": "code",
   "execution_count": null,
   "metadata": {},
   "outputs": [],
   "source": [
    "class Solution:\n",
    "    def characterReplacement(self, s: str, k: int) -> int:\n",
    "        \n",
    "        count = {}\n",
    "        res = 0\n",
    "        l = 0\n",
    "        for r in range(len(s)):\n",
    "            count[s[r]] = 1 + count.get(s[r], 0) # if the value doesn't exist, get 0 # recount the number of encounter\n",
    "            \n",
    "            while (r - l + 1) - max(count.values()) > k: # if the window - the most repeating char is greater than k, meaning that there are more char needs replacement than k\n",
    "                count[s[l]] -= 1 # decrease the count of the left pointer \n",
    "                l += 1 # move left pointer one to the right\n",
    "            # until there are less spots needs to replace than k\n",
    "            res = max(res, r-l+1) # calculate the new window\n",
    "        return res\n",
    "        "
   ]
  },
  {
   "cell_type": "markdown",
   "metadata": {},
   "source": [
    "You are given a string s and an integer k. You can choose any character of the string and change it to any other uppercase English character. You can perform this operation at most k times.\n",
    "\n",
    "Return the length of the longest substring containing the same letter you can get after performing the above operations."
   ]
  }
 ],
 "metadata": {
  "language_info": {
   "name": "python"
  },
  "orig_nbformat": 4
 },
 "nbformat": 4,
 "nbformat_minor": 2
}
