{
 "cells": [
  {
   "cell_type": "code",
   "execution_count": null,
   "metadata": {},
   "outputs": [],
   "source": [
    "class Solution:\n",
    "    def sortedSquares(self, nums: List[int]) -> List[int]:\n",
    "\n",
    "        \n",
    "        #O(n)\n",
    "        \n",
    "        left = 0\n",
    "        right = len(nums) - 1\n",
    "        \n",
    "        ans = [0] * (right + 1)\n",
    "        \n",
    "        \n",
    "        idx = right\n",
    "        while left <= right:\n",
    "            left_sq = nums[left]* nums[left]\n",
    "            right_sq = nums[right]* nums[right]\n",
    "            \n",
    "            if right_sq > left_sq:\n",
    "                ans[idx] = right_sq\n",
    "                right -=1\n",
    "            else:\n",
    "                ans[idx] = left_sq\n",
    "                left += 1\n",
    "            idx -= 1\n",
    "        return ans"
   ]
  },
  {
   "cell_type": "markdown",
   "metadata": {},
   "source": [
    "Given an integer array nums sorted in non-decreasing order, return an array of the squares of each number sorted in non-decreasing order."
   ]
  },
  {
   "cell_type": "code",
   "execution_count": null,
   "metadata": {},
   "outputs": [],
   "source": [
    "        \n",
    "        # O(n^2)\n",
    "        for i, num in enumerate(nums):\n",
    "            nums[i] = num*num\n",
    "            \n",
    "        nums.sort()\n",
    "        return nums"
   ]
  }
 ],
 "metadata": {
  "language_info": {
   "name": "python"
  },
  "orig_nbformat": 4
 },
 "nbformat": 4,
 "nbformat_minor": 2
}
