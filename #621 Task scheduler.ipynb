{
 "cells": [
  {
   "cell_type": "code",
   "execution_count": null,
   "metadata": {},
   "outputs": [],
   "source": [
    "class Solution:\n",
    "    def leastInterval(self, tasks: List[str], n: int) -> int:\n",
    "        maxHeap = []\n",
    "        q = deque()\n",
    "        time = 0\n",
    "        count = Counter(tasks) # count the occurance of each task\n",
    "            \n",
    "        maxHeap = [-i for i in count.values()] # store the frequency into maxheap: schedule the most frequent task first\n",
    "        heapq.heapify(maxHeap)\n",
    "        \n",
    "        while maxHeap or q:\n",
    "            time += 1\n",
    "            if maxHeap:\n",
    "                node = heapq.heappop(maxHeap) + 1 # +1 means decrease the frequency because the value is negative now\n",
    "                if node != 0: # if the count == 0 we stop scheduleing this task\n",
    "                    q.append([node, time+n]) # if not -, then put it into queue\n",
    "            if q and time == q[0][1]: # if the queue exists and the time == to the schedule time\n",
    "                val, newTime = q.popleft() \n",
    "                heapq.heappush(maxHeap, val)\n",
    "                \n",
    "        return time"
   ]
  },
  {
   "cell_type": "markdown",
   "metadata": {},
   "source": [
    "Given a characters array tasks, representing the tasks a CPU needs to do, where each letter represents a different task. Tasks could be done in any order. Each task is done in one unit of time. For each unit of time, the CPU could complete either one task or just be idle.\n",
    "\n",
    "However, there is a non-negative integer n that represents the cooldown period between two same tasks (the same letter in the array), that is that there must be at least n units of time between any two same tasks.\n",
    "\n",
    "Return the least number of units of times that the CPU will take to finish all the given tasks."
   ]
  }
 ],
 "metadata": {
  "language_info": {
   "name": "python"
  },
  "orig_nbformat": 4
 },
 "nbformat": 4,
 "nbformat_minor": 2
}
