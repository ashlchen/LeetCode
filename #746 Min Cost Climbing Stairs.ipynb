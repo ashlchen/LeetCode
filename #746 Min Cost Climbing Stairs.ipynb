{
 "cells": [
  {
   "cell_type": "code",
   "execution_count": null,
   "metadata": {},
   "outputs": [],
   "source": [
    "class Solution:\n",
    "    def minCostClimbingStairs(self, cost: List[int]) -> int:\n",
    "        \n",
    "        cost.append(0)\n",
    "        \n",
    "        for i in range(len(cost)-3, -1, -1): # starting from the 2nd to the last position and replace the value into the min cost to the end goal\n",
    "            cost[i] = min(cost[i+1] + cost[i], cost[i] + cost[i+2])\n",
    "        \n",
    "        return min(cost[0], cost[1]) # so position 0 or 1 will have the min cost to the end"
   ]
  },
  {
   "cell_type": "markdown",
   "metadata": {},
   "source": [
    "You are given an integer array cost where cost[i] is the cost of ith step on a staircase. Once you pay the cost, you can either climb one or two steps.\n",
    "\n",
    "You can either start from the step with index 0, or the step with index 1.\n",
    "\n",
    "Return the minimum cost to reach the top of the floor."
   ]
  }
 ],
 "metadata": {
  "language_info": {
   "name": "python"
  },
  "orig_nbformat": 4
 },
 "nbformat": 4,
 "nbformat_minor": 2
}
